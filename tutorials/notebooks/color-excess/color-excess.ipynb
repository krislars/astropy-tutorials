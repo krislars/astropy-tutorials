{
  "nbformat": 4,
  "nbformat_minor": 0,
  "metadata": {
    "colab": {
      "name": "color-excess.ipynb",
      "version": "0.3.2",
      "provenance": [],
      "collapsed_sections": [],
      "toc_visible": true,
      "include_colab_link": true
    },
    "kernelspec": {
      "display_name": "Python 3",
      "language": "python",
      "name": "python3"
    }
  },
  "cells": [
    {
      "cell_type": "markdown",
      "metadata": {
        "id": "view-in-github",
        "colab_type": "text"
      },
      "source": [
        "[View in Colaboratory](https://colab.research.google.com/github/krislars/astropy-tutorials/blob/fix_testing/tutorials/notebooks/color-excess/color-excess.ipynb)"
      ]
    },
    {
      "metadata": {
        "id": "5fGL2VYp13Vi",
        "colab_type": "text"
      },
      "cell_type": "markdown",
      "source": [
        "# Dereddening a spectrum and calculating reddening"
      ]
    },
    {
      "metadata": {
        "id": "6UzIN7ds1-G1",
        "colab_type": "text"
      },
      "cell_type": "markdown",
      "source": [
        "Kristen Larson (@krislars) with ideas Emir Karamehmetoglu and feedback from Pey Lian Lim, Karl Gordon, and Kevin Covey.\n",
        "\n",
        "June 2018"
      ]
    },
    {
      "metadata": {
        "id": "Btb9Da5P4nLr",
        "colab_type": "text"
      },
      "cell_type": "markdown",
      "source": [
        "## Learning Goals\n",
        "- Investigate extinction curve shapes\n",
        "- Deredden spectral energy distributions and spectra\n",
        "- Calculate photometric extinction and reddening\n",
        "- Use `dust_extinction` and `synphot` together\n",
        "\n",
        "\n",
        "\n",
        "\n",
        "\n",
        "## Keywords\n",
        "`dust_extinction`,  `synphot`"
      ]
    },
    {
      "metadata": {
        "id": "ssir1UjtD_Wn",
        "colab_type": "text"
      },
      "cell_type": "markdown",
      "source": [
        "# Introduction"
      ]
    },
    {
      "metadata": {
        "id": "1rvwpEs946ju",
        "colab_type": "text"
      },
      "cell_type": "markdown",
      "source": [
        "Dust in the interstellar medium (ISM) extinguishes background starlight.  The wavelength dependence of the extinction is such that short-wavelength light is extinguished more than long-wavelength light, and we call this effect *reddening*.\n",
        "\n",
        "If you're new to extinction, here is a brief introduction to the types of quantities involved.\n",
        "The fractional change to the flux of starlight is \n",
        "$$\n",
        "\\frac{dF_\\lambda}{F_\\lambda} = -\\tau_\\lambda\n",
        "$$\n",
        "where $\\tau$ is the optical depth and depends on wavelength.  Integrating along the line of sight, the resultant flux is an exponential function of optical depth,\n",
        "$$\n",
        "\\tau_\\lambda = -\\ln\\left(\\frac{F_\\lambda}{F_{\\lambda,0}}\\right).\n",
        "$$\n",
        "\n",
        "With an eye to how we define magnitudes, we usually change the base from $e$ to 10,  \n",
        "$$\n",
        "\\tau_\\lambda = -2.303\\log\\left(\\frac{F_\\lambda}{F_{\\lambda,0}}\\right),\n",
        "$$\n",
        "and define an extinction $A_\\lambda = 1.086 \\,\\tau_\\lambda$ so that\n",
        "$$\n",
        "A_\\lambda = -2.5\\log\\left(\\frac{F_\\lambda}{F_{\\lambda,0}}\\right).\n",
        "$$\n",
        "\n",
        "\n",
        "There are two basic take-home messages from this derivation:\n",
        "\n",
        "* Extinction introduces a multiplying factor $10^{-0.4 A_\\lambda}$ to the flux.\n",
        "* Extinction is defined relative to the flux without dust, $F_{\\lambda,0}$.\n",
        "\n",
        "In this tutorial, we will look at some extinction curves from the literature, use one of those curves to deredden an observed spectrum, and practice invoking a background source flux in order to calculate magnitudes from an extinction model."
      ]
    },
    {
      "metadata": {
        "id": "sdJ9JYEhLlWA",
        "colab_type": "text"
      },
      "cell_type": "markdown",
      "source": [
        "## Installation"
      ]
    },
    {
      "metadata": {
        "id": "vFDq1xGXz_t4",
        "colab_type": "code",
        "colab": {}
      },
      "cell_type": "code",
      "source": [
        "# Standard imports:\n",
        "import matplotlib.pyplot as plt\n",
        "%matplotlib inline\n",
        "import numpy as np"
      ],
      "execution_count": 0,
      "outputs": []
    },
    {
      "metadata": {
        "id": "Nyslq8XiFkCC",
        "colab_type": "text"
      },
      "cell_type": "markdown",
      "source": [
        "This tutorial uses two of the affiliated packages of astropy, `dust_extinction` and `synphot`.  You will find instructions on how to [install affiliated packages here](https://www.astropy.org/affiliated/).  You can also use pip as demonstrated in the commented-out cell below."
      ]
    },
    {
      "metadata": {
        "id": "QIECOjCP8ZZ_",
        "colab_type": "code",
        "colab": {
          "base_uri": "https://localhost:8080/",
          "height": 538
        },
        "outputId": "911ccb94-5c79-4467-e02f-6767619321d4"
      },
      "cell_type": "code",
      "source": [
        "# For running in Google Colaboratory, uncomment these lines:\n",
        "# !pip install astropy\n",
        "!pip install dust_extinction\n",
        "# !pip install synphot\n",
        "# !pip install astroquery"
      ],
      "execution_count": 2,
      "outputs": [
        {
          "output_type": "stream",
          "text": [
            "Requirement already satisfied: astropy in /usr/local/lib/python3.6/dist-packages (3.0.3)\r\n",
            "Requirement already satisfied: numpy>=1.10.0 in /usr/local/lib/python3.6/dist-packages (from astropy) (1.14.5)\n",
            "Requirement already satisfied: dust_extinction in /usr/local/lib/python3.6/dist-packages (0.6)\n",
            "Requirement already satisfied: scipy in /usr/local/lib/python3.6/dist-packages (from dust_extinction) (0.19.1)\n",
            "Requirement already satisfied: astropy in /usr/local/lib/python3.6/dist-packages (from dust_extinction) (3.0.3)\n",
            "Requirement already satisfied: numpy>=1.8.2 in /usr/local/lib/python3.6/dist-packages (from scipy->dust_extinction) (1.14.5)\n",
            "Requirement already satisfied: synphot in /usr/local/lib/python3.6/dist-packages (0.1.1)\n",
            "Requirement already satisfied: astropy in /usr/local/lib/python3.6/dist-packages (from synphot) (3.0.3)\n",
            "Requirement already satisfied: numpy in /usr/local/lib/python3.6/dist-packages (from synphot) (1.14.5)\n",
            "Requirement already satisfied: astroquery in /usr/local/lib/python3.6/dist-packages (0.3.8)\n",
            "Requirement already satisfied: html5lib>=0.999 in /usr/local/lib/python3.6/dist-packages (from astroquery) (1.0.1)\n",
            "Requirement already satisfied: astropy>=1.0 in /usr/local/lib/python3.6/dist-packages (from astroquery) (3.0.3)\n",
            "Requirement already satisfied: keyring>=4.0 in /usr/local/lib/python3.6/dist-packages (from astroquery) (13.2.1)\n",
            "Requirement already satisfied: requests>=2.4.3 in /usr/local/lib/python3.6/dist-packages (from astroquery) (2.18.4)\n",
            "Requirement already satisfied: beautifulsoup4>=4.3.2 in /usr/local/lib/python3.6/dist-packages (from astroquery) (4.6.0)\n",
            "Requirement already satisfied: webencodings in /usr/local/lib/python3.6/dist-packages (from html5lib>=0.999->astroquery) (0.5.1)\n",
            "Requirement already satisfied: six>=1.9 in /usr/local/lib/python3.6/dist-packages (from html5lib>=0.999->astroquery) (1.11.0)\n",
            "Requirement already satisfied: numpy>=1.10.0 in /usr/local/lib/python3.6/dist-packages (from astropy>=1.0->astroquery) (1.14.5)\n",
            "Requirement already satisfied: entrypoints in /usr/local/lib/python3.6/dist-packages (from keyring>=4.0->astroquery) (0.2.3)\n",
            "Requirement already satisfied: secretstorage; sys_platform == \"linux\" and python_version >= \"3.5\" in /usr/local/lib/python3.6/dist-packages (from keyring>=4.0->astroquery) (3.0.1)\n",
            "Requirement already satisfied: urllib3<1.23,>=1.21.1 in /usr/local/lib/python3.6/dist-packages (from requests>=2.4.3->astroquery) (1.22)\n",
            "Requirement already satisfied: idna<2.7,>=2.5 in /usr/local/lib/python3.6/dist-packages (from requests>=2.4.3->astroquery) (2.6)\n",
            "Requirement already satisfied: chardet<3.1.0,>=3.0.2 in /usr/local/lib/python3.6/dist-packages (from requests>=2.4.3->astroquery) (3.0.4)\n",
            "Requirement already satisfied: certifi>=2017.4.17 in /usr/local/lib/python3.6/dist-packages (from requests>=2.4.3->astroquery) (2018.4.16)\n",
            "Requirement already satisfied: jeepney in /usr/local/lib/python3.6/dist-packages (from secretstorage; sys_platform == \"linux\" and python_version >= \"3.5\"->keyring>=4.0->astroquery) (0.3.1)\n",
            "Requirement already satisfied: cryptography in /usr/local/lib/python3.6/dist-packages (from secretstorage; sys_platform == \"linux\" and python_version >= \"3.5\"->keyring>=4.0->astroquery) (2.3)\n",
            "Requirement already satisfied: asn1crypto>=0.21.0 in /usr/local/lib/python3.6/dist-packages (from cryptography->secretstorage; sys_platform == \"linux\" and python_version >= \"3.5\"->keyring>=4.0->astroquery) (0.24.0)\n",
            "Requirement already satisfied: cffi!=1.11.3,>=1.7 in /usr/local/lib/python3.6/dist-packages (from cryptography->secretstorage; sys_platform == \"linux\" and python_version >= \"3.5\"->keyring>=4.0->astroquery) (1.11.5)\n",
            "Requirement already satisfied: pycparser in /usr/local/lib/python3.6/dist-packages (from cffi!=1.11.3,>=1.7->cryptography->secretstorage; sys_platform == \"linux\" and python_version >= \"3.5\"->keyring>=4.0->astroquery) (2.18)\n"
          ],
          "name": "stdout"
        }
      ]
    },
    {
      "metadata": {
        "id": "K9gwBSy_R_2E",
        "colab_type": "text"
      },
      "cell_type": "markdown",
      "source": [
        "Once astropy and the affiliated packages are installed, we can import from them as needed:"
      ]
    },
    {
      "metadata": {
        "id": "IGsA10tFqCss",
        "colab_type": "code",
        "colab": {}
      },
      "cell_type": "code",
      "source": [
        "import astropy.units as u\n",
        "from astropy.table import Table\n",
        "from dust_extinction.dust_extinction import CCM89, F99\n",
        "from synphot import units\n",
        "from synphot import SourceSpectrum,SpectralElement,Observation,ExtinctionModel1D\n",
        "from synphot.models import BlackBodyNorm1D\n",
        "from synphot.spectrum import BaseUnitlessSpectrum\n",
        "from synphot.reddening import ExtinctionCurve\n",
        "from astroquery.simbad import Simbad\n",
        "from astroquery.mast import Observations"
      ],
      "execution_count": 0,
      "outputs": []
    },
    {
      "metadata": {
        "id": "NYgj1w2X7gXc",
        "colab_type": "text"
      },
      "cell_type": "markdown",
      "source": [
        "# Example 1: Investigate Extinction Models"
      ]
    },
    {
      "metadata": {
        "id": "ifscJWwyEZtS",
        "colab_type": "text"
      },
      "cell_type": "markdown",
      "source": [
        "The `dust_extinction` package provides various models for extinction $A_\\lambda$ normalized to $A_V$.  The shapes of normalized curves are relatively (and perhaps surprisingly) uniform in the Milky Way.  What variation there is is often parameterized by the ratio of extinction to reddening in the blue-visual,\n",
        "$$\n",
        "R_V = \\frac{A_V}{E_{B-V}}\n",
        "$$\n",
        "where reddening $E_{B-V}$ is differential extinction $A_B-A_V$.  In this example, we show the $R_V$-parameterization for the Clayton, Cardelli, & Mathis (1989, CCM) and the Fitzpatrick (1999) models; see the package documentation for more options."
      ]
    },
    {
      "metadata": {
        "id": "b1uhXbRl79FR",
        "colab_type": "code",
        "colab": {
          "base_uri": "https://localhost:8080/",
          "height": 304
        },
        "outputId": "336f0d3c-263c-4aac-953c-b80ce4bcbcd1"
      },
      "cell_type": "code",
      "source": [
        "# Create wavelengths array.\n",
        "wav = np.arange(0.1, 3, 0.001)*u.micron\n",
        "\n",
        "for model in [CCM89,F99]:\n",
        "    for R in (2.0,3.0,4.0):\n",
        "      # Initialize the extinction model.\n",
        "      ext = model(Rv=R)\n",
        "      plt.plot(1/wav, ext(wav), label=model.name+' R='+str(R))\n",
        "\n",
        "plt.xlabel('$\\lambda^{-1}$ ($\\mu$m$^{-1}$)')\n",
        "plt.ylabel('A($\\lambda$) / A(V)')\n",
        "plt.legend(loc='best')\n",
        "plt.title('Some Extinction Laws')\n",
        "plt.show()"
      ],
      "execution_count": 4,
      "outputs": [
        {
          "output_type": "display_data",
          "data": {
            "image/png": "[encoded data removed]",
            "text/plain": [
              "<matplotlib.figure.Figure at 0x7efef06fedd8>"
            ]
          },
          "metadata": {
            "tags": []
          }
        }
      ]
    },
    {
      "metadata": {
        "id": "d-1XRyovX028",
        "colab_type": "text"
      },
      "cell_type": "markdown",
      "source": [
        "Astronomers studying the ISM often display extinction curves against inverse wavelength (wavenumber) to show the ultraviolet variation, as we do here.  Infrared extinction varies much less and approaches zero at long wavelength in the absence of grey or wavelength-independent extinction."
      ]
    },
    {
      "metadata": {
        "id": "TMEWEKJf-iSL",
        "colab_type": "text"
      },
      "cell_type": "markdown",
      "source": [
        "# Example 2: Deredden a Spectrum"
      ]
    },
    {
      "metadata": {
        "id": "zTeDJ-dI1cQj",
        "colab_type": "text"
      },
      "cell_type": "markdown",
      "source": [
        "Here we deredden (unextinguish) the IUE ultraviolet spectrum of the star $\\rho$ Oph (HD 147933) with optical flux of the star from Simbad photometry.\n",
        "\n",
        "First, we fetch the spectrum from the IUE archive:"
      ]
    },
    {
      "metadata": {
        "id": "Zdwr_mdZcDeh",
        "colab_type": "code",
        "colab": {
          "base_uri": "https://localhost:8080/",
          "height": 72
        },
        "outputId": "ed663d38-2a76-4c85-e842-804e2eb8f34c"
      },
      "cell_type": "code",
      "source": [
        "obsTable = Observations.query_object(\"HD 147933\",radius=\"1 arcsec\")\n",
        "obsTable_spec=obsTable[obsTable['dataproduct_type']=='spectrum']\n",
        "# obsTable_spec.pprint()\n",
        "\n",
        "obsids = ['3000022829']\n",
        "dataProductsByID = Observations.get_product_list(obsids)\n",
        "manifest = Observations.download_products(dataProductsByID)"
      ],
      "execution_count": 5,
      "outputs": [
        {
          "output_type": "stream",
          "text": [
            "INFO: Found cached file ./mastDownload/IUE/lwr05639/lwr05639.mxlo.gz with expected size 18165. [astroquery.query]\n",
            "INFO: Found cached file ./mastDownload/IUE/lwr05639/lwr05639mxlo_vo.fits with expected size 48960. [astroquery.query]\n"
          ],
          "name": "stdout"
        }
      ]
    },
    {
      "metadata": {
        "id": "MevN670kcI4B",
        "colab_type": "text"
      },
      "cell_type": "markdown",
      "source": [
        "We read the downloaded files into an astropy table:"
      ]
    },
    {
      "metadata": {
        "id": "THilzBfVcDb-",
        "colab_type": "code",
        "colab": {
          "base_uri": "https://localhost:8080/",
          "height": 157
        },
        "outputId": "c3d397c0-f315-489c-de53-dc88489a6945"
      },
      "cell_type": "code",
      "source": [
        "t_lwr = Table.read('./mastDownload/IUE/lwr05639/lwr05639mxlo_vo.fits')\n",
        "t_lwr"
      ],
      "execution_count": 6,
      "outputs": [
        {
          "output_type": "stream",
          "text": [
            "WARNING: UnitsWarning: 'erg/cm**2/s/angstrom' contains multiple slashes, which is discouraged by the FITS standard [astropy.units.format.generic]\n"
          ],
          "name": "stderr"
        },
        {
          "output_type": "execute_result",
          "data": {
            "text/html": [
              "<i>Table length=1</i>\n",
              "<table id=\"table139633371881544\" class=\"table-striped table-bordered table-condensed\">\n",
              "<thead><tr><th>WAVE [562]</th><th>FLUX [562]</th><th>SIGMA [562]</th><th>QUALITY [562]</th></tr></thead>\n",
              "<thead><tr><th>Angstrom</th><th>erg / (Angstrom cm2 s)</th><th>erg / (Angstrom cm2 s)</th><th></th></tr></thead>\n",
              "<thead><tr><th>float32</th><th>float32</th><th>float32</th><th>int16</th></tr></thead>\n",
              "<tr><td>1851.4327 .. 3348.901</td><td>2.08651e-10 .. 7.39839e-11</td><td>4.2679475e-11 .. 1.347232e-10</td><td>0 .. 16</td></tr>\n",
              "</table>"
            ],
            "text/plain": [
              "<Table length=1>\n",
              "      WAVE [562]              FLUX [562]         ... QUALITY [562]\n",
              "       Angstrom         erg / (Angstrom cm2 s)   ...              \n",
              "       float32                 float32           ...     int16    \n",
              "--------------------- -------------------------- ... -------------\n",
              "1851.4327 .. 3348.901 2.08651e-10 .. 7.39839e-11 ...       0 .. 16"
            ]
          },
          "metadata": {
            "tags": []
          },
          "execution_count": 6
        }
      ]
    },
    {
      "metadata": {
        "id": "IiQ9u8QJcKtC",
        "colab_type": "text"
      },
      "cell_type": "markdown",
      "source": [
        "The next lines read columns of the table into quantity numpy vectors.  Quantities attach units to the values."
      ]
    },
    {
      "metadata": {
        "id": "P54jimyWcDZa",
        "colab_type": "code",
        "colab": {}
      },
      "cell_type": "code",
      "source": [
        "wav_UV = t_lwr['WAVE'][0,].quantity\n",
        "UVflux = t_lwr['FLUX'][0,].quantity"
      ],
      "execution_count": 0,
      "outputs": []
    },
    {
      "metadata": {
        "id": "WCIgXzhdcUn7",
        "colab_type": "text"
      },
      "cell_type": "markdown",
      "source": [
        "Now, we fetch some photometry from Simbad to go with the IUE spectrum:"
      ]
    },
    {
      "metadata": {
        "id": "lYPVhZrXcDWw",
        "colab_type": "code",
        "colab": {}
      },
      "cell_type": "code",
      "source": [
        "custom_query = Simbad()\n",
        "custom_query.add_votable_fields('fluxdata(U)','fluxdata(B)','fluxdata(V)')\n",
        "phot_table=custom_query.query_object('HD 147933')\n",
        "Umag=phot_table['FLUX_U']\n",
        "Bmag=phot_table['FLUX_B']\n",
        "Vmag=phot_table['FLUX_V']"
      ],
      "execution_count": 0,
      "outputs": []
    },
    {
      "metadata": {
        "id": "OAxOt2AwcVfF",
        "colab_type": "text"
      },
      "cell_type": "markdown",
      "source": [
        "To convert the photometry to flux, we look up some properties of the photometric passbands:"
      ]
    },
    {
      "metadata": {
        "id": "cKMXywyCcDUU",
        "colab_type": "code",
        "colab": {}
      },
      "cell_type": "code",
      "source": [
        "wav_U = 0.3660 * u.micron \n",
        "zeroflux_U_nu = 1.81E-23 * u.Watt/(u.m*u.m*u.Hz)\n",
        "wav_B = 0.4400 * u.micron\n",
        "zeroflux_B_nu = 4.26E-23 * u.Watt/(u.m*u.m*u.Hz)\n",
        "wav_V = 0.5530 * u.micron\n",
        "zeroflux_V_nu = 3.64E-23 * u.Watt/(u.m*u.m*u.Hz)\n",
        "# refs: http://ned.ipac.caltech.edu/help/photoband.lst\n",
        "#       http://ned.ipac.caltech.edu/help/phoresult_help.html"
      ],
      "execution_count": 0,
      "outputs": []
    },
    {
      "metadata": {
        "id": "3cFcAlSOcjht",
        "colab_type": "text"
      },
      "cell_type": "markdown",
      "source": [
        "However, we notice that the zero-point fluxes we found for the optical passbands are not in the same units as the IUE fluxes.  To make matters words, the zero-point fluxes are $F_\\nu$ and the IUE data are $F_\\lambda$.  To convert between them, the wavelength is needed.  Fortunately, astropy provides an easy way to make the conversion with *equivalencies*:"
      ]
    },
    {
      "metadata": {
        "id": "pOFMtrNAcDRa",
        "colab_type": "code",
        "colab": {}
      },
      "cell_type": "code",
      "source": [
        "zeroflux_U = zeroflux_U_nu.to(u.erg/u.AA/u.cm/u.cm/u.s, \n",
        "                              equivalencies=u.spectral_density(wav_U))\n",
        "zeroflux_B = zeroflux_B_nu.to(u.erg/u.AA/u.cm/u.cm/u.s, \n",
        "                              equivalencies=u.spectral_density(wav_B))\n",
        "zeroflux_V = zeroflux_V_nu.to(u.erg/u.AA/u.cm/u.cm/u.s, \n",
        "                              equivalencies=u.spectral_density(wav_V))"
      ],
      "execution_count": 0,
      "outputs": []
    },
    {
      "metadata": {
        "id": "7XlrfQtjctNG",
        "colab_type": "text"
      },
      "cell_type": "markdown",
      "source": [
        "Now it easy to convert from magnitude to flux:"
      ]
    },
    {
      "metadata": {
        "id": "p_DaxRzjcDOZ",
        "colab_type": "code",
        "colab": {}
      },
      "cell_type": "code",
      "source": [
        "Uflux = zeroflux_U * 10.**(-0.4*Umag)\n",
        "Bflux = zeroflux_B * 10.**(-0.4*Bmag)\n",
        "Vflux = zeroflux_V * 10.**(-0.4*Vmag)"
      ],
      "execution_count": 0,
      "outputs": []
    },
    {
      "metadata": {
        "id": "ODhSujFjc0hM",
        "colab_type": "text"
      },
      "cell_type": "markdown",
      "source": [
        "We went though the trouble to get the quantities correct so that we can take advantage of astropy's unit support in plotting.  You should try to skip over the unit conversion to see the error that astropy throws if the quantities can't be reconciled."
      ]
    },
    {
      "metadata": {
        "id": "zfbngFZAc0Fm",
        "colab_type": "code",
        "colab": {
          "base_uri": "https://localhost:8080/",
          "height": 35
        },
        "outputId": "cba867b7-6897-4d1e-ef35-b16d5d971e0f"
      },
      "cell_type": "code",
      "source": [
        "from astropy.visualization import quantity_support\n",
        "quantity_support()"
      ],
      "execution_count": 12,
      "outputs": [
        {
          "output_type": "execute_result",
          "data": {
            "text/plain": [
              "<astropy.visualization.units.quantity_support.<locals>.MplQuantityConverter at 0x7efeed8d82b0>"
            ]
          },
          "metadata": {
            "tags": []
          },
          "execution_count": 12
        }
      ]
    },
    {
      "metadata": {
        "id": "x31EhibTcDFg",
        "colab_type": "code",
        "colab": {
          "base_uri": "https://localhost:8080/",
          "height": 300
        },
        "outputId": "e5b8b70b-6d57-44c1-8258-a41441c72bde"
      },
      "cell_type": "code",
      "source": [
        "plt.plot(wav_UV,UVflux,'m',label='UV')\n",
        "plt.plot(wav_V,Vflux,'ko',label='U, B, V')\n",
        "plt.plot(wav_B,Bflux,'ko')\n",
        "plt.plot(wav_U,Uflux,'ko')\n",
        "plt.legend(loc='best')\n",
        "plt.ylim(0,3E-10)\n",
        "plt.title('rho Oph')\n",
        "plt.show()"
      ],
      "execution_count": 13,
      "outputs": [
        {
          "output_type": "display_data",
          "data": {
            "image/png": "[encoded data removed]",
            "text/plain": [
              "<matplotlib.figure.Figure at 0x7efef065e7b8>"
            ]
          },
          "metadata": {
            "tags": []
          }
        }
      ]
    },
    {
      "metadata": {
        "id": "vCfk0D87dDE8",
        "colab_type": "text"
      },
      "cell_type": "markdown",
      "source": [
        "A-ha! Notice that `quantity_support` converted the wavelengths into the same units. Handy! \n",
        "\n",
        "Finally, we initialize the extinction model, choosing a value for $R_V$ and reddening $E_{B-V}$.  This star is famous in the ISM community as an example of a large-$R_V$ line of sight."
      ]
    },
    {
      "metadata": {
        "id": "wdp5ERuqcC8_",
        "colab_type": "code",
        "colab": {}
      },
      "cell_type": "code",
      "source": [
        "Rv = 5.0  # Usually around 3, but about 5 for this star.\n",
        "Ebv = 0.5\n",
        "ext = F99(Rv=Rv)"
      ],
      "execution_count": 0,
      "outputs": []
    },
    {
      "metadata": {
        "id": "cpN5n_MIdv26",
        "colab_type": "text"
      },
      "cell_type": "markdown",
      "source": [
        "To extinguish (redden) a spectrum, multiply by the `ext.extinguish` function.  To unextinguish (deredden), divide by the same `ext.extinguish`, as we do here:"
      ]
    },
    {
      "metadata": {
        "id": "DyxkYpdxdvfc",
        "colab_type": "code",
        "colab": {
          "base_uri": "https://localhost:8080/",
          "height": 300
        },
        "outputId": "5ee6ee36-f431-47c2-9894-793d37125ac5"
      },
      "cell_type": "code",
      "source": [
        "plt.semilogy(wav_UV,UVflux,'m',label='UV')\n",
        "plt.semilogy(wav_V,Vflux,'ko',label='U, B, V')\n",
        "plt.semilogy(wav_B,Bflux,'ko')\n",
        "plt.semilogy(wav_U,Uflux,'ko')\n",
        "\n",
        "plt.semilogy(wav_UV,UVflux/ext.extinguish(wav_UV,Ebv=Ebv),'b',\n",
        "             label='dered with EBV=0.5, RV=5')\n",
        "plt.semilogy(wav_V,Vflux/ext.extinguish(wav_V,Ebv=Ebv),'ro',\n",
        "             label='dered with EBV=0.5, RV=5')\n",
        "plt.semilogy(wav_B,Bflux/ext.extinguish(wav_B,Ebv=Ebv),'ro')\n",
        "plt.semilogy(wav_U,Uflux/ext.extinguish(wav_U,Ebv=Ebv),'ro')\n",
        "\n",
        "plt.legend(loc='best')\n",
        "plt.title('rho Oph')\n",
        "plt.show()"
      ],
      "execution_count": 15,
      "outputs": [
        {
          "output_type": "display_data",
          "data": {
            "image/png": "[encoded data removed]",
            "text/plain": [
              "<matplotlib.figure.Figure at 0x7efeed59ecc0>"
            ]
          },
          "metadata": {
            "tags": []
          }
        }
      ]
    },
    {
      "metadata": {
        "id": "L-yuz7YfFMxm",
        "colab_type": "text"
      },
      "cell_type": "markdown",
      "source": [
        "Notice that the absorption feature at 2175 Angstrom is removed.  This feature can also be seen as the prominent bump in the extinction curves in Example 1.\n",
        "\n",
        "Those experienced with dereddening should notice that that `dust_extinction` returns $A_\\lambda/A_V$, while other routines like the IDL `fm_unred` procedure often return $A_\\lambda/E_{B-V}$ by default and need to be divided by $R_V$ in order to compare directly with `dust_extinction`."
      ]
    },
    {
      "metadata": {
        "id": "WqtsQTZbp9nz",
        "colab_type": "text"
      },
      "cell_type": "markdown",
      "source": [
        "# Example 3: Calculate Color Excess with `synphot`"
      ]
    },
    {
      "metadata": {
        "id": "WwsM9_56FVYr",
        "colab_type": "text"
      },
      "cell_type": "markdown",
      "source": [
        "Calculating broadband *photometric* extinction is harder than it might look at first.  All we have to do is look up $A_\\lambda$ for a particular band, right?  Under the right conditions, yes.  In general, no.\n",
        "\n",
        "Remember that we have to integrate over a passband to get synthetic photometry,\n",
        "$$\n",
        "A = -2.5\\log\\left(\\frac{\\int W_\\lambda F_{\\lambda,0} 10^{-0.4A_\\lambda} d\\lambda}{\\int W_\\lambda F_{\\lambda,0} d\\lambda} \\right),\n",
        "$$\n",
        "where $W_\\lambda$ is the fraction of incident energy transmitted through a filter.  See the detailed appendix in Bessell & Murphy (2012) for an excellent review of the issues and common misunderstandings in synthetic photometry.\n",
        "\n",
        "There is an important point to be made here. The expression above does not simplify any further. Strictly speaking, it is impossible to convert spectral extinction $A_\\lambda$ into a magnitude system without knowing the wavelength dependence of the source's original flux across the filter in question.  As a special case, if we assume that the source flux is constant in the band (i.e. $F_\\lambda = F$), then we can cancel these factors out from the integrals, and extinction in magnitudes becomes the weighted average of the extinction factor across the filter in question. In that special case, $A_\\lambda$ at $\\lambda_{\\rm eff}$ is a good approximation for magnitude extinction.\n",
        "\n",
        "In this example, we will demonstrate the more rigorous calculation.  We use a blackbody curve for the flux before the dust, apply an extinction curve, and perform synthetic photometry to calculate extinction and reddening in a magnitude system.\n"
      ]
    },
    {
      "metadata": {
        "id": "avGGI5fVX2wV",
        "colab_type": "text"
      },
      "cell_type": "markdown",
      "source": [
        "First, let's get the filter transmission curves:"
      ]
    },
    {
      "metadata": {
        "id": "wO-wwoOnp2B3",
        "colab_type": "code",
        "colab": {}
      },
      "cell_type": "code",
      "source": [
        "# Optional, for when the STScI ftp server is not answering:\n",
        "from synphot import config\n",
        "config.conf.vega_file='http://ssb.stsci.edu/cdbs/calspec/alpha_lyr_stis_008.fits'\n",
        "config.conf.johnson_u_file='http://ssb.stsci.edu/cdbs/comp/nonhst/johnson_u_004_syn.fits'\n",
        "config.conf.johnson_b_file='http://ssb.stsci.edu/cdbs/comp/nonhst/johnson_b_004_syn.fits'\n",
        "config.conf.johnson_v_file='http://ssb.stsci.edu/cdbs/comp/nonhst/johnson_v_004_syn.fits'\n",
        "config.conf.johnson_r_file='http://ssb.stsci.edu/cdbs/comp/nonhst/johnson_r_003_syn.fits'\n",
        "config.conf.johnson_i_file='http://ssb.stsci.edu/cdbs/comp/nonhst/johnson_i_003_syn.fits'\n",
        "config.conf.bessel_j_file='http://ssb.stsci.edu/cdbs/comp/nonhst/bessell_j_003_syn.fits'\n",
        "config.conf.bessel_h_file='http://ssb.stsci.edu/cdbs/comp/nonhst/bessell_h_004_syn.fits'\n",
        "config.conf.bessel_k_file='http://ssb.stsci.edu/cdbs/comp/nonhst/bessell_k_003_syn.fits'\n",
        "\n",
        "u_band = SpectralElement.from_filter('johnson_u')\n",
        "b_band = SpectralElement.from_filter('johnson_b')\n",
        "v_band = SpectralElement.from_filter('johnson_v')\n",
        "r_band = SpectralElement.from_filter('johnson_r')\n",
        "i_band = SpectralElement.from_filter('johnson_i')\n",
        "j_band = SpectralElement.from_filter('bessel_j')\n",
        "h_band = SpectralElement.from_filter('bessel_h')\n",
        "k_band = SpectralElement.from_filter('bessel_k')"
      ],
      "execution_count": 0,
      "outputs": []
    },
    {
      "metadata": {
        "id": "hekvrcEGpvYd",
        "colab_type": "text"
      },
      "cell_type": "markdown",
      "source": [
        "The lines above get the filter transmission curves from an FTP server at STScI.  If FTP server is not responding, uncomment out the optional lines to use an http server instead.\n",
        "\n",
        "If you are running this with your own python, see the [synphot documentation](https://synphot.readthedocs.io/en/latest/#installation-and-setup) on how to download your own copy of the necessary files."
      ]
    },
    {
      "metadata": {
        "id": "vQTSrYpvJeaY",
        "colab_type": "text"
      },
      "cell_type": "markdown",
      "source": [
        "Next, let's make a background flux to which we will apply extinction.  Here we make a 10,000 K blackbody using the model mechanism from within `synphot` and normalize it to $V$ = 10 in the Vega-based magnitude system."
      ]
    },
    {
      "metadata": {
        "id": "NuPS0Ij2ncC0",
        "colab_type": "code",
        "colab": {
          "base_uri": "https://localhost:8080/",
          "height": 572
        },
        "outputId": "92c29002-c708-4db9-cc85-a6224a5dc4a2"
      },
      "cell_type": "code",
      "source": [
        "# First, create a blackbody at some temperature.\n",
        "sp = SourceSpectrum(BlackBodyNorm1D, temperature=10000)\n",
        "sp.plot(left=1, right=15000, flux_unit='flam', title='Blackbody')\n",
        "\n",
        "# Get the Vega spectrum as the zero point flux.\n",
        "vega = SourceSpectrum.from_vega()\n",
        "# vega.plot(left=1, right=15000)\n",
        "\n",
        "# Normalize the blackbody to some chosen magnitude, say V = 10.\n",
        "vmag = 10.\n",
        "v_band = SpectralElement.from_filter('johnson_v')\n",
        "sp_norm = sp.normalize(vmag * units.VEGAMAG, v_band, vegaspec=vega)\n",
        "sp_norm.plot(left=1, right=15000, flux_unit='flam', title='Normed Blackbody')"
      ],
      "execution_count": 17,
      "outputs": [
        {
          "output_type": "display_data",
          "data": {
            "image/png": "[encoded data removed]",
            "text/plain": [
              "<matplotlib.figure.Figure at 0x7efeed351f98>"
            ]
          },
          "metadata": {
            "tags": []
          }
        },
        {
          "output_type": "display_data",
          "data": {
            "image/png": "[encoded data removed]",
            "text/plain": [
              "<matplotlib.figure.Figure at 0x7efeed47ed68>"
            ]
          },
          "metadata": {
            "tags": []
          }
        }
      ]
    },
    {
      "metadata": {
        "id": "H4jYc_F8CiHi",
        "colab_type": "text"
      },
      "cell_type": "markdown",
      "source": [
        "Now we initialize the extinction model and choose an extinction of $A_V$ = 2.  To get the `dust_extinction` model working with `synphot`, we create a wavelength array and make a spectral element with the extinction model as a lookup table."
      ]
    },
    {
      "metadata": {
        "id": "9H4VHd0VCCBG",
        "colab_type": "code",
        "colab": {
          "base_uri": "https://localhost:8080/",
          "height": 295
        },
        "outputId": "01988b9a-43a7-4576-ee2d-636c2d020585"
      },
      "cell_type": "code",
      "source": [
        "# Initialize the extinction model and choose the extinction, here Av = 2.\n",
        "ext = CCM89(Rv=3.1)\n",
        "Av = 2.\n",
        "\n",
        "# Create a wavelength array. \n",
        "wav = np.arange(0.1, 3, 0.001)*u.micron\n",
        "\n",
        "# Make the extinction model in synphot using a lookup table.\n",
        "ex = ExtinctionCurve(ExtinctionModel1D, \n",
        "                     points=wav, lookup_table=ext.extinguish(wav, Av=Av))\n",
        "sp_ext = sp_norm*ex\n",
        "sp_ext.plot(left=1, right=15000, flux_unit='flam',\n",
        "            title='Normed Blackbody with Extinction')"
      ],
      "execution_count": 18,
      "outputs": [
        {
          "output_type": "display_data",
          "data": {
            "image/png": "[encoded data removed]",
            "text/plain": [
              "<matplotlib.figure.Figure at 0x7efeecd5ea58>"
            ]
          },
          "metadata": {
            "tags": []
          }
        }
      ]
    },
    {
      "metadata": {
        "id": "h0dxfniFF-Bf",
        "colab_type": "text"
      },
      "cell_type": "markdown",
      "source": [
        "Hey, there's that feature at 2175 Angstroms again!\n",
        "\n",
        "Synthetic photometry means sending the astronomical flux through a certain filter:"
      ]
    },
    {
      "metadata": {
        "id": "_1m5IFT4E2v_",
        "colab_type": "code",
        "colab": {
          "base_uri": "https://localhost:8080/",
          "height": 295
        },
        "outputId": "68d7b854-89b2-4da1-8606-69e19f1dedff"
      },
      "cell_type": "code",
      "source": [
        "# \"Observe\" the star through the filter and integrate to get photometric mag.\n",
        "sp_obs = Observation(sp_ext, v_band)\n",
        "sp_obs_before = Observation(sp_norm, v_band)\n",
        "sp_obs.plot(left=1, right=15000, flux_unit='flam',\n",
        "            title='Normed Blackbody with Extinction through V Filter')"
      ],
      "execution_count": 19,
      "outputs": [
        {
          "output_type": "display_data",
          "data": {
            "image/png": "[encoded data removed]",
            "text/plain": [
              "<matplotlib.figure.Figure at 0x7efeecd5ea90>"
            ]
          },
          "metadata": {
            "tags": []
          }
        }
      ]
    },
    {
      "metadata": {
        "id": "vFtJs0PhGLzx",
        "colab_type": "text"
      },
      "cell_type": "markdown",
      "source": [
        "and integrating it to get a flux.  The \"effective stimulus\" in `synphot` refers to the integrated flux that would be incident on a detector.  Invoking the Vega flux unit will convert the flux to a Vega-based magnitude system. "
      ]
    },
    {
      "metadata": {
        "id": "ycvVHlOGCRur",
        "colab_type": "code",
        "colab": {
          "base_uri": "https://localhost:8080/",
          "height": 69
        },
        "outputId": "5e93be33-e0d3-4040-d028-8e74d00f2a01"
      },
      "cell_type": "code",
      "source": [
        "sp_stim_before = sp_obs_before.effstim(flux_unit='vegamag', vegaspec=vega)\n",
        "sp_stim = sp_obs.effstim(flux_unit='vegamag', vegaspec=vega)\n",
        "print('before dust, V =', np.round(sp_stim_before,1))\n",
        "print('after dust, V =', np.round(sp_stim,1))\n",
        "\n",
        "# Calculate extinction and compare to our chosen value.\n",
        "Av_calc = sp_stim - sp_stim_before\n",
        "print('$A_V$ = ', np.round(Av_calc,1))"
      ],
      "execution_count": 20,
      "outputs": [
        {
          "output_type": "stream",
          "text": [
            "before dust, V = 10.0 VEGAMAG\n",
            "after dust, V = 12.0 VEGAMAG\n",
            "$A_V$ =  2.0 VEGAMAG\n"
          ],
          "name": "stdout"
        }
      ]
    },
    {
      "metadata": {
        "id": "asE7JUPuHddK",
        "colab_type": "text"
      },
      "cell_type": "markdown",
      "source": [
        "Ah, good!  We normalized our spectrum to $V$ = 10 mag and added 2 mag of visual extinction, and our synthetic photometry reproduces these chosen values.  We're feeling ready to find the extinction in other passbands. "
      ]
    },
    {
      "metadata": {
        "id": "woWiGJKwGI2v",
        "colab_type": "text"
      },
      "cell_type": "markdown",
      "source": [
        "We calculate the new photometry for the rest of the Johnson optical and the Bessell infrared filters. We calculate extinction $A = \\Delta m$ and plot color excess, $E(\\lambda - V) = A_\\lambda - A_V$.  \n",
        "\n",
        "Notice that `synphot` calculates the effective wavelength of the observations for us.  Handy for plotting!"
      ]
    },
    {
      "metadata": {
        "id": "0PMDsoC68w4b",
        "colab_type": "code",
        "colab": {
          "base_uri": "https://localhost:8080/",
          "height": 298
        },
        "outputId": "814b1e2d-3af2-4861-e48d-93e946387765"
      },
      "cell_type": "code",
      "source": [
        "bands = [u_band,b_band,v_band,r_band,i_band,j_band,h_band,k_band]\n",
        "\n",
        "for band in bands:\n",
        "    # Calculate photometry with dust:\n",
        "    sp_obs = Observation(sp_ext, band)\n",
        "    obs_effstim = sp_obs.effstim(flux_unit='vegamag', vegaspec=vega)\n",
        "    # Calculate photometry without dust:\n",
        "    sp_obs_i = Observation(sp_norm, band)\n",
        "    obs_i_effstim = sp_obs_i.effstim(flux_unit='vegamag', vegaspec=vega)\n",
        "  \n",
        "    # Extinction = mag with dust - mag without dust\n",
        "    # Color excess = extinction at lambda - extinction at V\n",
        "    color_excess = obs_effstim - obs_i_effstim - Av_calc\n",
        "    plt.plot(sp_obs_i.effective_wavelength(), color_excess,'or')\n",
        "\n",
        "plt.xlabel('$\\lambda$ (Angstrom)')\n",
        "plt.ylabel('E($\\lambda$-V)')\n",
        "plt.title('Photometric Reddening of a T=10,000K Background Source')\n",
        "plt.show()  "
      ],
      "execution_count": 21,
      "outputs": [
        {
          "output_type": "display_data",
          "data": {
            "image/png": "[encoded data removed]",
            "text/plain": [
              "<matplotlib.figure.Figure at 0x7efeecbde978>"
            ]
          },
          "metadata": {
            "tags": []
          }
        }
      ]
    },
    {
      "metadata": {
        "id": "9B4gdXzn8LtA",
        "colab_type": "text"
      },
      "cell_type": "markdown",
      "source": [
        "## Exercise\n",
        "Try changing the blackbody temperature to something very hot or very cool.  Do you get the same color excess?  \n",
        "\n",
        "The photometric extinction changes because the filter transmission is not uniform, so the throughput of the filter depends on the shape of the background source flux."
      ]
    },
    {
      "metadata": {
        "id": "o0A1N-XO8JF-",
        "colab_type": "code",
        "colab": {}
      },
      "cell_type": "code",
      "source": [
        ""
      ],
      "execution_count": 0,
      "outputs": []
    },
    {
      "metadata": {
        "id": "LVi-JDo8Qdi8",
        "colab_type": "code",
        "colab": {}
      },
      "cell_type": "code",
      "source": [
        ""
      ],
      "execution_count": 0,
      "outputs": []
    }
  ]
}
